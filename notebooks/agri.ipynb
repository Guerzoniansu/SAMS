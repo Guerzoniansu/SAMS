{
 "cells": [
  {
   "cell_type": "markdown",
   "metadata": {},
   "source": [
    "# Import packages"
   ]
  },
  {
   "cell_type": "code",
   "execution_count": 1,
   "metadata": {},
   "outputs": [],
   "source": [
    "import os\n",
    "import pandas as pd"
   ]
  },
  {
   "cell_type": "markdown",
   "metadata": {},
   "source": [
    "# Transform Yields Data"
   ]
  },
  {
   "cell_type": "code",
   "execution_count": 2,
   "metadata": {},
   "outputs": [
    {
     "name": "stdout",
     "output_type": "stream",
     "text": [
      "e:\\SAMS\\datasets\n"
     ]
    }
   ],
   "source": [
    "datasets = os.path.dirname(os.getcwd())\n",
    "datasets = os.path.join(datasets, \"datasets\")\n",
    "print(datasets)"
   ]
  },
  {
   "cell_type": "code",
   "execution_count": 4,
   "metadata": {},
   "outputs": [
    {
     "name": "stdout",
     "output_type": "stream",
     "text": [
      "e:\\SAMS\\files\\yields\n"
     ]
    }
   ],
   "source": [
    "files = os.path.dirname(os.getcwd())\n",
    "files = os.path.join(files, \"files\", \"yields\")\n",
    "print(files)"
   ]
  },
  {
   "cell_type": "markdown",
   "metadata": {},
   "source": [
    "## Transform All Techs Data"
   ]
  },
  {
   "cell_type": "code",
   "execution_count": 12,
   "metadata": {},
   "outputs": [],
   "source": [
    "techs = [\"A\", \"I\", \"R\"]"
   ]
  },
  {
   "cell_type": "code",
   "execution_count": 14,
   "metadata": {},
   "outputs": [],
   "source": [
    "for tech in techs:\n",
    "    aPath = os.path.join(files, tech, f\"spam2020V1r0_global_Y_T{tech}.csv\")\n",
    "    dt = pd.read_csv(aPath)\n",
    "    dt.drop(\n",
    "        ['grid_code', 'FIPS0', 'FIPS1', 'FIPS2', 'ADM0_NAME', 'ADM1_NAME', 'ADM2_NAME', 'rec_type', 'tech_type',\n",
    "        'unit', 'year_data'], \n",
    "        axis=1, errors='ignore', inplace=True\n",
    "    )\n",
    "    dt.columns = dt.columns.str.lower()\n",
    "    aStore = os.path.join(datasets, tech, f\"spam2020V1r0_global_Y_T{tech}.csv\")\n",
    "    dt.to_csv(aStore, index=False)"
   ]
  }
 ],
 "metadata": {
  "kernelspec": {
   "display_name": ".venv",
   "language": "python",
   "name": "python3"
  },
  "language_info": {
   "codemirror_mode": {
    "name": "ipython",
    "version": 3
   },
   "file_extension": ".py",
   "mimetype": "text/x-python",
   "name": "python",
   "nbconvert_exporter": "python",
   "pygments_lexer": "ipython3",
   "version": "3.11.9"
  }
 },
 "nbformat": 4,
 "nbformat_minor": 2
}

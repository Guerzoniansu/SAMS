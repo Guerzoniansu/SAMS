{
 "cells": [
  {
   "cell_type": "code",
   "execution_count": 1,
   "id": "b041dd7e",
   "metadata": {},
   "outputs": [],
   "source": [
    "import numpy as np\n",
    "import pandas as pd\n",
    "from pathlib import Path"
   ]
  },
  {
   "cell_type": "code",
   "execution_count": 2,
   "id": "c8c08c15",
   "metadata": {},
   "outputs": [],
   "source": [
    "HOME_DIR = Path.cwd()\n",
    "DATA_DIR = Path(HOME_DIR)"
   ]
  },
  {
   "cell_type": "code",
   "execution_count": 2,
   "id": "b327e389",
   "metadata": {},
   "outputs": [],
   "source": [
    "acp_coefficients = pd.read_csv(\"E:\\SAMS\\datasets\\ACP\\R\\dim_projection_R.csv\", sep=\";\",index_col=0)"
   ]
  },
  {
   "cell_type": "code",
   "execution_count": 3,
   "id": "400fcec5",
   "metadata": {
    "collapsed": true
   },
   "outputs": [
    {
     "data": {
      "text/html": [
       "<div>\n",
       "<style scoped>\n",
       "    .dataframe tbody tr th:only-of-type {\n",
       "        vertical-align: middle;\n",
       "    }\n",
       "\n",
       "    .dataframe tbody tr th {\n",
       "        vertical-align: top;\n",
       "    }\n",
       "\n",
       "    .dataframe thead th {\n",
       "        text-align: right;\n",
       "    }\n",
       "</style>\n",
       "<table border=\"1\" class=\"dataframe\">\n",
       "  <thead>\n",
       "    <tr style=\"text-align: right;\">\n",
       "      <th></th>\n",
       "      <th>ALLSKY_KT_1</th>\n",
       "      <th>ALLSKY_KT_2</th>\n",
       "      <th>ALLSKY_KT_3</th>\n",
       "      <th>ALLSKY_SRF_ALB_1</th>\n",
       "      <th>ALLSKY_SRF_ALB_2</th>\n",
       "      <th>ALLSKY_SFC_LW_DWN_1</th>\n",
       "      <th>ALLSKY_SFC_LW_DWN_2</th>\n",
       "      <th>ALLSKY_SFC_LW_UP_1</th>\n",
       "      <th>ALLSKY_SFC_LW_UP_2</th>\n",
       "      <th>ALLSKY_SFC_PAR_TOT_1</th>\n",
       "      <th>...</th>\n",
       "      <th>GWETTOP_2</th>\n",
       "      <th>T2M_1</th>\n",
       "      <th>T2M_2</th>\n",
       "      <th>WD2M_1</th>\n",
       "      <th>WD2M_2</th>\n",
       "      <th>WD2M_3</th>\n",
       "      <th>WD2M_4</th>\n",
       "      <th>WD2M_5</th>\n",
       "      <th>WD2M_6</th>\n",
       "      <th>WS2M_1</th>\n",
       "    </tr>\n",
       "    <tr>\n",
       "      <th>Var</th>\n",
       "      <th></th>\n",
       "      <th></th>\n",
       "      <th></th>\n",
       "      <th></th>\n",
       "      <th></th>\n",
       "      <th></th>\n",
       "      <th></th>\n",
       "      <th></th>\n",
       "      <th></th>\n",
       "      <th></th>\n",
       "      <th></th>\n",
       "      <th></th>\n",
       "      <th></th>\n",
       "      <th></th>\n",
       "      <th></th>\n",
       "      <th></th>\n",
       "      <th></th>\n",
       "      <th></th>\n",
       "      <th></th>\n",
       "      <th></th>\n",
       "      <th></th>\n",
       "    </tr>\n",
       "  </thead>\n",
       "  <tbody>\n",
       "    <tr>\n",
       "      <th>ALLSKY_KT0</th>\n",
       "      <td>0.753937</td>\n",
       "      <td>-0.505496</td>\n",
       "      <td>-0.153045</td>\n",
       "      <td>0.0</td>\n",
       "      <td>0.0</td>\n",
       "      <td>0.0</td>\n",
       "      <td>0.0</td>\n",
       "      <td>0.0</td>\n",
       "      <td>0.0</td>\n",
       "      <td>0.0</td>\n",
       "      <td>...</td>\n",
       "      <td>0.0</td>\n",
       "      <td>0.0</td>\n",
       "      <td>0.0</td>\n",
       "      <td>0.0</td>\n",
       "      <td>0.0</td>\n",
       "      <td>0.0</td>\n",
       "      <td>0.0</td>\n",
       "      <td>0.0</td>\n",
       "      <td>0.0</td>\n",
       "      <td>0.0</td>\n",
       "    </tr>\n",
       "    <tr>\n",
       "      <th>ALLSKY_KT1</th>\n",
       "      <td>0.774951</td>\n",
       "      <td>-0.464639</td>\n",
       "      <td>0.011588</td>\n",
       "      <td>0.0</td>\n",
       "      <td>0.0</td>\n",
       "      <td>0.0</td>\n",
       "      <td>0.0</td>\n",
       "      <td>0.0</td>\n",
       "      <td>0.0</td>\n",
       "      <td>0.0</td>\n",
       "      <td>...</td>\n",
       "      <td>0.0</td>\n",
       "      <td>0.0</td>\n",
       "      <td>0.0</td>\n",
       "      <td>0.0</td>\n",
       "      <td>0.0</td>\n",
       "      <td>0.0</td>\n",
       "      <td>0.0</td>\n",
       "      <td>0.0</td>\n",
       "      <td>0.0</td>\n",
       "      <td>0.0</td>\n",
       "    </tr>\n",
       "    <tr>\n",
       "      <th>ALLSKY_KT10</th>\n",
       "      <td>0.777975</td>\n",
       "      <td>-0.343962</td>\n",
       "      <td>-0.357685</td>\n",
       "      <td>0.0</td>\n",
       "      <td>0.0</td>\n",
       "      <td>0.0</td>\n",
       "      <td>0.0</td>\n",
       "      <td>0.0</td>\n",
       "      <td>0.0</td>\n",
       "      <td>0.0</td>\n",
       "      <td>...</td>\n",
       "      <td>0.0</td>\n",
       "      <td>0.0</td>\n",
       "      <td>0.0</td>\n",
       "      <td>0.0</td>\n",
       "      <td>0.0</td>\n",
       "      <td>0.0</td>\n",
       "      <td>0.0</td>\n",
       "      <td>0.0</td>\n",
       "      <td>0.0</td>\n",
       "      <td>0.0</td>\n",
       "    </tr>\n",
       "    <tr>\n",
       "      <th>ALLSKY_KT11</th>\n",
       "      <td>0.765839</td>\n",
       "      <td>-0.493828</td>\n",
       "      <td>-0.268434</td>\n",
       "      <td>0.0</td>\n",
       "      <td>0.0</td>\n",
       "      <td>0.0</td>\n",
       "      <td>0.0</td>\n",
       "      <td>0.0</td>\n",
       "      <td>0.0</td>\n",
       "      <td>0.0</td>\n",
       "      <td>...</td>\n",
       "      <td>0.0</td>\n",
       "      <td>0.0</td>\n",
       "      <td>0.0</td>\n",
       "      <td>0.0</td>\n",
       "      <td>0.0</td>\n",
       "      <td>0.0</td>\n",
       "      <td>0.0</td>\n",
       "      <td>0.0</td>\n",
       "      <td>0.0</td>\n",
       "      <td>0.0</td>\n",
       "    </tr>\n",
       "    <tr>\n",
       "      <th>ALLSKY_KT2</th>\n",
       "      <td>0.731291</td>\n",
       "      <td>-0.381285</td>\n",
       "      <td>0.465678</td>\n",
       "      <td>0.0</td>\n",
       "      <td>0.0</td>\n",
       "      <td>0.0</td>\n",
       "      <td>0.0</td>\n",
       "      <td>0.0</td>\n",
       "      <td>0.0</td>\n",
       "      <td>0.0</td>\n",
       "      <td>...</td>\n",
       "      <td>0.0</td>\n",
       "      <td>0.0</td>\n",
       "      <td>0.0</td>\n",
       "      <td>0.0</td>\n",
       "      <td>0.0</td>\n",
       "      <td>0.0</td>\n",
       "      <td>0.0</td>\n",
       "      <td>0.0</td>\n",
       "      <td>0.0</td>\n",
       "      <td>0.0</td>\n",
       "    </tr>\n",
       "  </tbody>\n",
       "</table>\n",
       "<p>5 rows × 89 columns</p>\n",
       "</div>"
      ],
      "text/plain": [
       "             ALLSKY_KT_1  ALLSKY_KT_2  ALLSKY_KT_3  ALLSKY_SRF_ALB_1  \\\n",
       "Var                                                                    \n",
       "ALLSKY_KT0      0.753937    -0.505496    -0.153045               0.0   \n",
       "ALLSKY_KT1      0.774951    -0.464639     0.011588               0.0   \n",
       "ALLSKY_KT10     0.777975    -0.343962    -0.357685               0.0   \n",
       "ALLSKY_KT11     0.765839    -0.493828    -0.268434               0.0   \n",
       "ALLSKY_KT2      0.731291    -0.381285     0.465678               0.0   \n",
       "\n",
       "             ALLSKY_SRF_ALB_2  ALLSKY_SFC_LW_DWN_1  ALLSKY_SFC_LW_DWN_2  \\\n",
       "Var                                                                       \n",
       "ALLSKY_KT0                0.0                  0.0                  0.0   \n",
       "ALLSKY_KT1                0.0                  0.0                  0.0   \n",
       "ALLSKY_KT10               0.0                  0.0                  0.0   \n",
       "ALLSKY_KT11               0.0                  0.0                  0.0   \n",
       "ALLSKY_KT2                0.0                  0.0                  0.0   \n",
       "\n",
       "             ALLSKY_SFC_LW_UP_1  ALLSKY_SFC_LW_UP_2  ALLSKY_SFC_PAR_TOT_1  \\\n",
       "Var                                                                         \n",
       "ALLSKY_KT0                  0.0                 0.0                   0.0   \n",
       "ALLSKY_KT1                  0.0                 0.0                   0.0   \n",
       "ALLSKY_KT10                 0.0                 0.0                   0.0   \n",
       "ALLSKY_KT11                 0.0                 0.0                   0.0   \n",
       "ALLSKY_KT2                  0.0                 0.0                   0.0   \n",
       "\n",
       "             ...  GWETTOP_2  T2M_1  T2M_2  WD2M_1  WD2M_2  WD2M_3  WD2M_4  \\\n",
       "Var          ...                                                            \n",
       "ALLSKY_KT0   ...        0.0    0.0    0.0     0.0     0.0     0.0     0.0   \n",
       "ALLSKY_KT1   ...        0.0    0.0    0.0     0.0     0.0     0.0     0.0   \n",
       "ALLSKY_KT10  ...        0.0    0.0    0.0     0.0     0.0     0.0     0.0   \n",
       "ALLSKY_KT11  ...        0.0    0.0    0.0     0.0     0.0     0.0     0.0   \n",
       "ALLSKY_KT2   ...        0.0    0.0    0.0     0.0     0.0     0.0     0.0   \n",
       "\n",
       "             WD2M_5  WD2M_6  WS2M_1  \n",
       "Var                                  \n",
       "ALLSKY_KT0      0.0     0.0     0.0  \n",
       "ALLSKY_KT1      0.0     0.0     0.0  \n",
       "ALLSKY_KT10     0.0     0.0     0.0  \n",
       "ALLSKY_KT11     0.0     0.0     0.0  \n",
       "ALLSKY_KT2      0.0     0.0     0.0  \n",
       "\n",
       "[5 rows x 89 columns]"
      ]
     },
     "execution_count": 3,
     "metadata": {},
     "output_type": "execute_result"
    }
   ],
   "source": [
    "acp_coefficients.head()"
   ]
  },
  {
   "cell_type": "code",
   "execution_count": 14,
   "id": "3b707770",
   "metadata": {},
   "outputs": [],
   "source": [
    "Yield_TI_data_1 = pd.read_csv(\"E:\\SAMS\\datasets\\R\\spam2020V1r0_global_Y_TR.csv\", sep=\",\")"
   ]
  },
  {
   "cell_type": "code",
   "execution_count": 55,
   "id": "1198bcc2",
   "metadata": {},
   "outputs": [],
   "source": [
    "point_test = Yield_TI_data_1.iloc[48600]"
   ]
  },
  {
   "cell_type": "code",
   "execution_count": 56,
   "id": "4efbca65",
   "metadata": {},
   "outputs": [
    {
     "data": {
      "text/plain": [
       "48600    0.0\n",
       "Name: pmil_r, dtype: float64"
      ]
     },
     "execution_count": 56,
     "metadata": {},
     "output_type": "execute_result"
    }
   ],
   "source": [
    "point_test = pd.DataFrame([point_test])\n",
    "point_test[\"pmil_r\"]"
   ]
  },
  {
   "cell_type": "code",
   "execution_count": 57,
   "id": "61638818",
   "metadata": {},
   "outputs": [
    {
     "data": {
      "text/plain": [
       "48600    0.0\n",
       "Name: pmil_r, dtype: float64"
      ]
     },
     "execution_count": 57,
     "metadata": {},
     "output_type": "execute_result"
    }
   ],
   "source": [
    "point_test[\"pmil_r\"]"
   ]
  },
  {
   "cell_type": "code",
   "execution_count": 58,
   "id": "ae706403",
   "metadata": {},
   "outputs": [],
   "source": [
    "columns_clrsky = [col for col in point_test.columns if col.startswith(\"CLRSKY_DAYS\")]\n",
    "for col in columns_clrsky:\n",
    "    point_test[col] = point_test[col].str.extract(r'(\\d+)').astype(float) "
   ]
  },
  {
   "cell_type": "code",
   "execution_count": 59,
   "id": "a55ce1ed",
   "metadata": {},
   "outputs": [
    {
     "data": {
      "text/plain": [
       "48600    0.328125\n",
       "Name: ALLSKY_KT11, dtype: float64"
      ]
     },
     "execution_count": 59,
     "metadata": {},
     "output_type": "execute_result"
    }
   ],
   "source": [
    "point_test[\"ALLSKY_KT11\"]"
   ]
  },
  {
   "cell_type": "code",
   "execution_count": 60,
   "id": "35dc297a",
   "metadata": {},
   "outputs": [],
   "source": [
    "point_test_var = point_test.drop(columns=[\"x\", \"y\",\"lon\", \"lat\"])\n",
    "point_test_var = point_test_var.drop(columns=[col for col in point_test_var.columns if \"_r\" in col])\n",
    "point_test_var = point_test_var.drop(columns=[col for col in point_test_var.columns if \"PRECTOTCORR\" in col])"
   ]
  },
  {
   "cell_type": "code",
   "execution_count": 61,
   "id": "a1933565",
   "metadata": {
    "scrolled": true
   },
   "outputs": [
    {
     "data": {
      "text/html": [
       "<div>\n",
       "<style scoped>\n",
       "    .dataframe tbody tr th:only-of-type {\n",
       "        vertical-align: middle;\n",
       "    }\n",
       "\n",
       "    .dataframe tbody tr th {\n",
       "        vertical-align: top;\n",
       "    }\n",
       "\n",
       "    .dataframe thead th {\n",
       "        text-align: right;\n",
       "    }\n",
       "</style>\n",
       "<table border=\"1\" class=\"dataframe\">\n",
       "  <thead>\n",
       "    <tr style=\"text-align: right;\">\n",
       "      <th></th>\n",
       "      <th>ALLSKY_KT0</th>\n",
       "      <th>ALLSKY_KT1</th>\n",
       "      <th>ALLSKY_KT2</th>\n",
       "      <th>ALLSKY_KT3</th>\n",
       "      <th>ALLSKY_KT4</th>\n",
       "      <th>ALLSKY_KT5</th>\n",
       "      <th>ALLSKY_KT6</th>\n",
       "      <th>ALLSKY_KT7</th>\n",
       "      <th>ALLSKY_KT8</th>\n",
       "      <th>ALLSKY_KT9</th>\n",
       "      <th>...</th>\n",
       "      <th>WS2M2</th>\n",
       "      <th>WS2M3</th>\n",
       "      <th>WS2M4</th>\n",
       "      <th>WS2M5</th>\n",
       "      <th>WS2M6</th>\n",
       "      <th>WS2M7</th>\n",
       "      <th>WS2M8</th>\n",
       "      <th>WS2M9</th>\n",
       "      <th>WS2M10</th>\n",
       "      <th>WS2M11</th>\n",
       "    </tr>\n",
       "  </thead>\n",
       "  <tbody>\n",
       "    <tr>\n",
       "      <th>48600</th>\n",
       "      <td>0.351562</td>\n",
       "      <td>0.421875</td>\n",
       "      <td>0.539062</td>\n",
       "      <td>0.539062</td>\n",
       "      <td>0.4375</td>\n",
       "      <td>0.585938</td>\n",
       "      <td>0.5625</td>\n",
       "      <td>0.578125</td>\n",
       "      <td>0.570312</td>\n",
       "      <td>0.445312</td>\n",
       "      <td>...</td>\n",
       "      <td>3.984375</td>\n",
       "      <td>3.765625</td>\n",
       "      <td>2.695312</td>\n",
       "      <td>2.6875</td>\n",
       "      <td>2.078125</td>\n",
       "      <td>2.289062</td>\n",
       "      <td>3.375</td>\n",
       "      <td>3.195312</td>\n",
       "      <td>3.015625</td>\n",
       "      <td>3.445312</td>\n",
       "    </tr>\n",
       "  </tbody>\n",
       "</table>\n",
       "<p>1 rows × 444 columns</p>\n",
       "</div>"
      ],
      "text/plain": [
       "       ALLSKY_KT0  ALLSKY_KT1  ALLSKY_KT2  ALLSKY_KT3  ALLSKY_KT4  ALLSKY_KT5  \\\n",
       "48600    0.351562    0.421875    0.539062    0.539062      0.4375    0.585938   \n",
       "\n",
       "       ALLSKY_KT6  ALLSKY_KT7  ALLSKY_KT8  ALLSKY_KT9  ...     WS2M2  \\\n",
       "48600      0.5625    0.578125    0.570312    0.445312  ...  3.984375   \n",
       "\n",
       "          WS2M3     WS2M4   WS2M5     WS2M6     WS2M7  WS2M8     WS2M9  \\\n",
       "48600  3.765625  2.695312  2.6875  2.078125  2.289062  3.375  3.195312   \n",
       "\n",
       "         WS2M10    WS2M11  \n",
       "48600  3.015625  3.445312  \n",
       "\n",
       "[1 rows x 444 columns]"
      ]
     },
     "execution_count": 61,
     "metadata": {},
     "output_type": "execute_result"
    }
   ],
   "source": [
    "point_test_var"
   ]
  },
  {
   "cell_type": "code",
   "execution_count": 62,
   "id": "0695686b",
   "metadata": {},
   "outputs": [],
   "source": [
    "point_vector = point_test_var[acp_coefficients.index] "
   ]
  },
  {
   "cell_type": "code",
   "execution_count": 63,
   "id": "718c0869",
   "metadata": {},
   "outputs": [
    {
     "name": "stdout",
     "output_type": "stream",
     "text": [
      "(1, 444)\n",
      "(1, 444)\n"
     ]
    }
   ],
   "source": [
    "print(point_vector.shape)\n",
    "print(point_test_var.shape)"
   ]
  },
  {
   "cell_type": "code",
   "execution_count": 64,
   "id": "90451261",
   "metadata": {},
   "outputs": [],
   "source": [
    "point_vector = np.array(point_vector)\n",
    "acp_coefficients_1 = np.array(acp_coefficients.values)"
   ]
  },
  {
   "cell_type": "code",
   "execution_count": 65,
   "id": "f4ed7a48",
   "metadata": {
    "collapsed": true
   },
   "outputs": [],
   "source": [
    "#point_vector = np.array(point_vector, dtype=float)"
   ]
  },
  {
   "cell_type": "code",
   "execution_count": 66,
   "id": "f0178040",
   "metadata": {},
   "outputs": [],
   "source": [
    "point_reduced = np.dot(point_vector, acp_coefficients_1)"
   ]
  },
  {
   "cell_type": "code",
   "execution_count": 67,
   "id": "deea9aa8",
   "metadata": {},
   "outputs": [],
   "source": [
    "point_reduced_vector = point_reduced.flatten()"
   ]
  },
  {
   "cell_type": "code",
   "execution_count": 68,
   "id": "2e1f2bf1",
   "metadata": {
    "collapsed": true
   },
   "outputs": [
    {
     "data": {
      "text/plain": [
       "array([ 4.03813293e+00,  6.89477620e-01,  1.83914292e-01,  1.94786807e+00,\n",
       "        4.00242432e-01,  3.14888418e+03,  3.48482225e+02,  3.58162931e+03,\n",
       "        5.05629098e+02,  1.22509844e+02,  4.74117892e+02,  2.27060155e+02,\n",
       "        1.08947495e+03,  2.29376572e+02,  5.36620368e+01,  1.32576743e+36,\n",
       "       -8.66294518e+35,  4.50479549e+35, -5.87123332e+33,  1.45820129e+01,\n",
       "        6.06950722e+01,  9.12231383e-01,  9.89513725e-01,  1.24040192e+01,\n",
       "        6.53147199e+00, -8.95862405e-01,  1.60049169e+00, -2.53620311e-01,\n",
       "       -5.41955325e-02,  4.81685683e-02, -8.04198904e-02,  9.41138414e-02,\n",
       "        1.35266234e-01,  2.84056929e+03,  3.50189185e+02,  3.57620462e+03,\n",
       "        5.04448952e+02, -6.37548378e+01,  5.68875192e+02, -2.64697907e+02,\n",
       "        1.25505931e+03,  3.03547106e+02, -6.17556430e+01,  1.64660207e+03,\n",
       "        1.92154501e+02,  2.94225557e+01,  5.84569370e+02,  4.00197374e+01,\n",
       "        5.34350450e+02, -5.30858915e+00,  1.75550477e+01,  1.39155168e+01,\n",
       "        3.72923428e+00,  2.88657177e+03,  2.25860624e+02,  4.07059783e+00,\n",
       "       -2.88769503e+00,  3.13517184e+00,  1.41747945e-04,  9.83253350e-05,\n",
       "        5.65773183e-05,  1.29357420e+02,  1.12780353e+02,  6.22283313e+01,\n",
       "        4.68651448e+00,  8.44613343e-01,  1.52743331e+00,  6.00088334e+00,\n",
       "       -3.41452400e-01,  7.43720316e+02, -1.74438871e+01,  5.87202474e+00,\n",
       "       -3.48897350e-01,  5.61172157e-02,  1.74514485e-02,  1.41585050e+01,\n",
       "        1.18820085e+06,  5.24361012e-01,  5.72278057e+00, -4.65572097e-01,\n",
       "        2.92373022e+03,  2.03053505e+02,  1.67785740e+03,  2.02694437e+02,\n",
       "        9.22424447e+01, -1.35713087e+02,  3.22491646e+01,  6.85752687e+01,\n",
       "        3.55014956e+01])"
      ]
     },
     "execution_count": 68,
     "metadata": {},
     "output_type": "execute_result"
    }
   ],
   "source": [
    "point_reduced_vector"
   ]
  },
  {
   "cell_type": "code",
   "execution_count": 69,
   "id": "7beca7eb",
   "metadata": {},
   "outputs": [
    {
     "data": {
      "text/plain": [
       "(89,)"
      ]
     },
     "execution_count": 69,
     "metadata": {},
     "output_type": "execute_result"
    }
   ],
   "source": [
    "point_reduced_vector.shape"
   ]
  },
  {
   "cell_type": "code",
   "execution_count": 70,
   "id": "a5f5aa7d",
   "metadata": {},
   "outputs": [],
   "source": [
    "point_reduced_df = pd.DataFrame([point_reduced_vector], columns=acp_coefficients.columns)"
   ]
  },
  {
   "cell_type": "code",
   "execution_count": 71,
   "id": "33c20f6c",
   "metadata": {},
   "outputs": [
    {
     "data": {
      "text/html": [
       "<div>\n",
       "<style scoped>\n",
       "    .dataframe tbody tr th:only-of-type {\n",
       "        vertical-align: middle;\n",
       "    }\n",
       "\n",
       "    .dataframe tbody tr th {\n",
       "        vertical-align: top;\n",
       "    }\n",
       "\n",
       "    .dataframe thead th {\n",
       "        text-align: right;\n",
       "    }\n",
       "</style>\n",
       "<table border=\"1\" class=\"dataframe\">\n",
       "  <thead>\n",
       "    <tr style=\"text-align: right;\">\n",
       "      <th></th>\n",
       "      <th>ALLSKY_KT_1</th>\n",
       "      <th>ALLSKY_KT_2</th>\n",
       "      <th>ALLSKY_KT_3</th>\n",
       "      <th>ALLSKY_SRF_ALB_1</th>\n",
       "      <th>ALLSKY_SRF_ALB_2</th>\n",
       "      <th>ALLSKY_SFC_LW_DWN_1</th>\n",
       "      <th>ALLSKY_SFC_LW_DWN_2</th>\n",
       "      <th>ALLSKY_SFC_LW_UP_1</th>\n",
       "      <th>ALLSKY_SFC_LW_UP_2</th>\n",
       "      <th>ALLSKY_SFC_PAR_TOT_1</th>\n",
       "      <th>...</th>\n",
       "      <th>GWETTOP_2</th>\n",
       "      <th>T2M_1</th>\n",
       "      <th>T2M_2</th>\n",
       "      <th>WD2M_1</th>\n",
       "      <th>WD2M_2</th>\n",
       "      <th>WD2M_3</th>\n",
       "      <th>WD2M_4</th>\n",
       "      <th>WD2M_5</th>\n",
       "      <th>WD2M_6</th>\n",
       "      <th>WS2M_1</th>\n",
       "    </tr>\n",
       "  </thead>\n",
       "  <tbody>\n",
       "    <tr>\n",
       "      <th>0</th>\n",
       "      <td>4.038133</td>\n",
       "      <td>0.689478</td>\n",
       "      <td>0.183914</td>\n",
       "      <td>1.947868</td>\n",
       "      <td>0.400242</td>\n",
       "      <td>3148.884176</td>\n",
       "      <td>348.482225</td>\n",
       "      <td>3581.629313</td>\n",
       "      <td>505.629098</td>\n",
       "      <td>122.509844</td>\n",
       "      <td>...</td>\n",
       "      <td>-0.465572</td>\n",
       "      <td>2923.730219</td>\n",
       "      <td>203.053505</td>\n",
       "      <td>1677.857398</td>\n",
       "      <td>202.694437</td>\n",
       "      <td>92.242445</td>\n",
       "      <td>-135.713087</td>\n",
       "      <td>32.249165</td>\n",
       "      <td>68.575269</td>\n",
       "      <td>35.501496</td>\n",
       "    </tr>\n",
       "  </tbody>\n",
       "</table>\n",
       "<p>1 rows × 89 columns</p>\n",
       "</div>"
      ],
      "text/plain": [
       "   ALLSKY_KT_1  ALLSKY_KT_2  ALLSKY_KT_3  ALLSKY_SRF_ALB_1  ALLSKY_SRF_ALB_2  \\\n",
       "0     4.038133     0.689478     0.183914          1.947868          0.400242   \n",
       "\n",
       "   ALLSKY_SFC_LW_DWN_1  ALLSKY_SFC_LW_DWN_2  ALLSKY_SFC_LW_UP_1  \\\n",
       "0          3148.884176           348.482225         3581.629313   \n",
       "\n",
       "   ALLSKY_SFC_LW_UP_2  ALLSKY_SFC_PAR_TOT_1  ...  GWETTOP_2        T2M_1  \\\n",
       "0          505.629098            122.509844  ...  -0.465572  2923.730219   \n",
       "\n",
       "        T2M_2       WD2M_1      WD2M_2     WD2M_3      WD2M_4     WD2M_5  \\\n",
       "0  203.053505  1677.857398  202.694437  92.242445 -135.713087  32.249165   \n",
       "\n",
       "      WD2M_6     WS2M_1  \n",
       "0  68.575269  35.501496  \n",
       "\n",
       "[1 rows x 89 columns]"
      ]
     },
     "execution_count": 71,
     "metadata": {},
     "output_type": "execute_result"
    }
   ],
   "source": [
    "point_reduced_df"
   ]
  },
  {
   "cell_type": "code",
   "execution_count": 72,
   "id": "d2b30506",
   "metadata": {},
   "outputs": [],
   "source": [
    "selected_columns = [col for col in point_test.columns if 'PRECTOTCORR' in col]\n",
    "sum_values = point_test[selected_columns].sum(axis=1)/12"
   ]
  },
  {
   "cell_type": "code",
   "execution_count": 73,
   "id": "fd1f59b0",
   "metadata": {},
   "outputs": [
    {
     "data": {
      "text/plain": [
       "48600    0.00001\n",
       "dtype: float64"
      ]
     },
     "execution_count": 73,
     "metadata": {},
     "output_type": "execute_result"
    }
   ],
   "source": [
    "sum_values"
   ]
  },
  {
   "cell_type": "code",
   "execution_count": 74,
   "id": "15796c07",
   "metadata": {},
   "outputs": [],
   "source": [
    "point_reduced_df['x'] = (point_test['x'].tolist())[0]\n",
    "point_reduced_df['y'] = (point_test['y'].tolist())[0]\n",
    "point_reduced_df['mean_PRECTOTCORR'] = (sum_values.tolist())[0]"
   ]
  },
  {
   "cell_type": "code",
   "execution_count": 75,
   "id": "9cadcb81",
   "metadata": {},
   "outputs": [
    {
     "data": {
      "text/html": [
       "<div>\n",
       "<style scoped>\n",
       "    .dataframe tbody tr th:only-of-type {\n",
       "        vertical-align: middle;\n",
       "    }\n",
       "\n",
       "    .dataframe tbody tr th {\n",
       "        vertical-align: top;\n",
       "    }\n",
       "\n",
       "    .dataframe thead th {\n",
       "        text-align: right;\n",
       "    }\n",
       "</style>\n",
       "<table border=\"1\" class=\"dataframe\">\n",
       "  <thead>\n",
       "    <tr style=\"text-align: right;\">\n",
       "      <th></th>\n",
       "      <th>ALLSKY_KT_1</th>\n",
       "      <th>ALLSKY_KT_2</th>\n",
       "      <th>ALLSKY_KT_3</th>\n",
       "      <th>ALLSKY_SRF_ALB_1</th>\n",
       "      <th>ALLSKY_SRF_ALB_2</th>\n",
       "      <th>ALLSKY_SFC_LW_DWN_1</th>\n",
       "      <th>ALLSKY_SFC_LW_DWN_2</th>\n",
       "      <th>ALLSKY_SFC_LW_UP_1</th>\n",
       "      <th>ALLSKY_SFC_LW_UP_2</th>\n",
       "      <th>ALLSKY_SFC_PAR_TOT_1</th>\n",
       "      <th>...</th>\n",
       "      <th>WD2M_1</th>\n",
       "      <th>WD2M_2</th>\n",
       "      <th>WD2M_3</th>\n",
       "      <th>WD2M_4</th>\n",
       "      <th>WD2M_5</th>\n",
       "      <th>WD2M_6</th>\n",
       "      <th>WS2M_1</th>\n",
       "      <th>x</th>\n",
       "      <th>y</th>\n",
       "      <th>mean_PRECTOTCORR</th>\n",
       "    </tr>\n",
       "  </thead>\n",
       "  <tbody>\n",
       "    <tr>\n",
       "      <th>0</th>\n",
       "      <td>4.038133</td>\n",
       "      <td>0.689478</td>\n",
       "      <td>0.183914</td>\n",
       "      <td>1.947868</td>\n",
       "      <td>0.400242</td>\n",
       "      <td>3148.884176</td>\n",
       "      <td>348.482225</td>\n",
       "      <td>3581.629313</td>\n",
       "      <td>505.629098</td>\n",
       "      <td>122.509844</td>\n",
       "      <td>...</td>\n",
       "      <td>1677.857398</td>\n",
       "      <td>202.694437</td>\n",
       "      <td>92.242445</td>\n",
       "      <td>-135.713087</td>\n",
       "      <td>32.249165</td>\n",
       "      <td>68.575269</td>\n",
       "      <td>35.501496</td>\n",
       "      <td>36.708301</td>\n",
       "      <td>51.958301</td>\n",
       "      <td>0.00001</td>\n",
       "    </tr>\n",
       "  </tbody>\n",
       "</table>\n",
       "<p>1 rows × 92 columns</p>\n",
       "</div>"
      ],
      "text/plain": [
       "   ALLSKY_KT_1  ALLSKY_KT_2  ALLSKY_KT_3  ALLSKY_SRF_ALB_1  ALLSKY_SRF_ALB_2  \\\n",
       "0     4.038133     0.689478     0.183914          1.947868          0.400242   \n",
       "\n",
       "   ALLSKY_SFC_LW_DWN_1  ALLSKY_SFC_LW_DWN_2  ALLSKY_SFC_LW_UP_1  \\\n",
       "0          3148.884176           348.482225         3581.629313   \n",
       "\n",
       "   ALLSKY_SFC_LW_UP_2  ALLSKY_SFC_PAR_TOT_1  ...       WD2M_1      WD2M_2  \\\n",
       "0          505.629098            122.509844  ...  1677.857398  202.694437   \n",
       "\n",
       "      WD2M_3      WD2M_4     WD2M_5     WD2M_6     WS2M_1          x  \\\n",
       "0  92.242445 -135.713087  32.249165  68.575269  35.501496  36.708301   \n",
       "\n",
       "           y  mean_PRECTOTCORR  \n",
       "0  51.958301           0.00001  \n",
       "\n",
       "[1 rows x 92 columns]"
      ]
     },
     "execution_count": 75,
     "metadata": {},
     "output_type": "execute_result"
    }
   ],
   "source": [
    "point_reduced_df"
   ]
  },
  {
   "cell_type": "code",
   "execution_count": 76,
   "id": "8ba8a4de",
   "metadata": {},
   "outputs": [],
   "source": [
    "point_reduced_df = point_reduced_df[['x', 'y'] + [col for col in point_reduced_df.columns if col not in ['x', 'y']]]"
   ]
  },
  {
   "cell_type": "code",
   "execution_count": 77,
   "id": "65909566",
   "metadata": {},
   "outputs": [
    {
     "data": {
      "text/html": [
       "<div>\n",
       "<style scoped>\n",
       "    .dataframe tbody tr th:only-of-type {\n",
       "        vertical-align: middle;\n",
       "    }\n",
       "\n",
       "    .dataframe tbody tr th {\n",
       "        vertical-align: top;\n",
       "    }\n",
       "\n",
       "    .dataframe thead th {\n",
       "        text-align: right;\n",
       "    }\n",
       "</style>\n",
       "<table border=\"1\" class=\"dataframe\">\n",
       "  <thead>\n",
       "    <tr style=\"text-align: right;\">\n",
       "      <th></th>\n",
       "      <th>x</th>\n",
       "      <th>y</th>\n",
       "      <th>ALLSKY_KT_1</th>\n",
       "      <th>ALLSKY_KT_2</th>\n",
       "      <th>ALLSKY_KT_3</th>\n",
       "      <th>ALLSKY_SRF_ALB_1</th>\n",
       "      <th>ALLSKY_SRF_ALB_2</th>\n",
       "      <th>ALLSKY_SFC_LW_DWN_1</th>\n",
       "      <th>ALLSKY_SFC_LW_DWN_2</th>\n",
       "      <th>ALLSKY_SFC_LW_UP_1</th>\n",
       "      <th>...</th>\n",
       "      <th>T2M_1</th>\n",
       "      <th>T2M_2</th>\n",
       "      <th>WD2M_1</th>\n",
       "      <th>WD2M_2</th>\n",
       "      <th>WD2M_3</th>\n",
       "      <th>WD2M_4</th>\n",
       "      <th>WD2M_5</th>\n",
       "      <th>WD2M_6</th>\n",
       "      <th>WS2M_1</th>\n",
       "      <th>mean_PRECTOTCORR</th>\n",
       "    </tr>\n",
       "  </thead>\n",
       "  <tbody>\n",
       "    <tr>\n",
       "      <th>0</th>\n",
       "      <td>36.708301</td>\n",
       "      <td>51.958301</td>\n",
       "      <td>4.038133</td>\n",
       "      <td>0.689478</td>\n",
       "      <td>0.183914</td>\n",
       "      <td>1.947868</td>\n",
       "      <td>0.400242</td>\n",
       "      <td>3148.884176</td>\n",
       "      <td>348.482225</td>\n",
       "      <td>3581.629313</td>\n",
       "      <td>...</td>\n",
       "      <td>2923.730219</td>\n",
       "      <td>203.053505</td>\n",
       "      <td>1677.857398</td>\n",
       "      <td>202.694437</td>\n",
       "      <td>92.242445</td>\n",
       "      <td>-135.713087</td>\n",
       "      <td>32.249165</td>\n",
       "      <td>68.575269</td>\n",
       "      <td>35.501496</td>\n",
       "      <td>0.00001</td>\n",
       "    </tr>\n",
       "  </tbody>\n",
       "</table>\n",
       "<p>1 rows × 92 columns</p>\n",
       "</div>"
      ],
      "text/plain": [
       "           x          y  ALLSKY_KT_1  ALLSKY_KT_2  ALLSKY_KT_3  \\\n",
       "0  36.708301  51.958301     4.038133     0.689478     0.183914   \n",
       "\n",
       "   ALLSKY_SRF_ALB_1  ALLSKY_SRF_ALB_2  ALLSKY_SFC_LW_DWN_1  \\\n",
       "0          1.947868          0.400242          3148.884176   \n",
       "\n",
       "   ALLSKY_SFC_LW_DWN_2  ALLSKY_SFC_LW_UP_1  ...        T2M_1       T2M_2  \\\n",
       "0           348.482225         3581.629313  ...  2923.730219  203.053505   \n",
       "\n",
       "        WD2M_1      WD2M_2     WD2M_3      WD2M_4     WD2M_5     WD2M_6  \\\n",
       "0  1677.857398  202.694437  92.242445 -135.713087  32.249165  68.575269   \n",
       "\n",
       "      WS2M_1  mean_PRECTOTCORR  \n",
       "0  35.501496           0.00001  \n",
       "\n",
       "[1 rows x 92 columns]"
      ]
     },
     "execution_count": 77,
     "metadata": {},
     "output_type": "execute_result"
    }
   ],
   "source": [
    "point_reduced_df"
   ]
  },
  {
   "cell_type": "code",
   "execution_count": 79,
   "id": "f56b1c1d",
   "metadata": {},
   "outputs": [],
   "source": [
    "import xgboost as xgb\n",
    "model = xgb.Booster()\n",
    "model.load_model(\"E:\\SAMS\\datasets\\ACP\\R\\pmil_R.json\") "
   ]
  },
  {
   "cell_type": "code",
   "execution_count": 80,
   "id": "b493f954",
   "metadata": {},
   "outputs": [
    {
     "name": "stdout",
     "output_type": "stream",
     "text": [
      "Le modèle utilise 93 variables (caractéristiques).\n"
     ]
    }
   ],
   "source": [
    "feature_names = model.get_fscore()\n",
    "num_features = len(feature_names)\n",
    "print(f\"Le modèle utilise {num_features} variables (caractéristiques).\")"
   ]
  },
  {
   "cell_type": "code",
   "execution_count": 81,
   "id": "61511c4a",
   "metadata": {},
   "outputs": [
    {
     "name": "stdout",
     "output_type": "stream",
     "text": [
      "Prediction: [709.5923]\n"
     ]
    }
   ],
   "source": [
    "data_input = xgb.DMatrix(point_reduced_df)\n",
    "prediction = model.predict(data_input)\n",
    "print(\"Prediction:\", prediction)"
   ]
  },
  {
   "cell_type": "code",
   "execution_count": 194,
   "id": "064a7f95",
   "metadata": {},
   "outputs": [
    {
     "data": {
      "text/plain": [
       "100000    0.0\n",
       "Name: whea_i, dtype: float64"
      ]
     },
     "execution_count": 194,
     "metadata": {},
     "output_type": "execute_result"
    }
   ],
   "source": [
    "point_test[\"whea_i\"]"
   ]
  },
  {
   "cell_type": "code",
   "execution_count": 42,
   "id": "7a062387",
   "metadata": {},
   "outputs": [],
   "source": [
    "point_reduced_df = point_reduced_df.to_numpy()"
   ]
  },
  {
   "cell_type": "code",
   "execution_count": 45,
   "id": "0497d4c2",
   "metadata": {},
   "outputs": [],
   "source": [
    "import lightgbm as lgb"
   ]
  },
  {
   "cell_type": "code",
   "execution_count": 47,
   "id": "9635ae1c",
   "metadata": {},
   "outputs": [],
   "source": [
    "model = lgb.Booster(model_file=\"E:\\SAMS\\datasets\\ACP\\R\\whea_R.json\")"
   ]
  },
  {
   "cell_type": "code",
   "execution_count": 48,
   "id": "e2a08a68",
   "metadata": {},
   "outputs": [
    {
     "ename": "LightGBMError",
     "evalue": "The number of features in data (92) is not the same as it was in training data (93).\nYou can set ``predict_disable_shape_check=true`` to discard this error, but please be aware what you are doing.",
     "output_type": "error",
     "traceback": [
      "\u001b[1;31m---------------------------------------------------------------------------\u001b[0m",
      "\u001b[1;31mLightGBMError\u001b[0m                             Traceback (most recent call last)",
      "Cell \u001b[1;32mIn[48], line 1\u001b[0m\n\u001b[1;32m----> 1\u001b[0m prediction \u001b[38;5;241m=\u001b[39m \u001b[43mmodel\u001b[49m\u001b[38;5;241;43m.\u001b[39;49m\u001b[43mpredict\u001b[49m\u001b[43m(\u001b[49m\u001b[43mpoint_reduced_df\u001b[49m\u001b[43m)\u001b[49m\n\u001b[0;32m      3\u001b[0m \u001b[38;5;66;03m# Afficher la prédiction\u001b[39;00m\n\u001b[0;32m      4\u001b[0m \u001b[38;5;28mprint\u001b[39m(\u001b[38;5;124m\"\u001b[39m\u001b[38;5;124mPrédiction pour le point donné :\u001b[39m\u001b[38;5;124m\"\u001b[39m, prediction)\n",
      "File \u001b[1;32me:\\SAMS\\.venv\\Lib\\site-packages\\lightgbm\\basic.py:4748\u001b[0m, in \u001b[0;36mBooster.predict\u001b[1;34m(self, data, start_iteration, num_iteration, raw_score, pred_leaf, pred_contrib, data_has_header, validate_features, **kwargs)\u001b[0m\n\u001b[0;32m   4746\u001b[0m     \u001b[38;5;28;01melse\u001b[39;00m:\n\u001b[0;32m   4747\u001b[0m         num_iteration \u001b[38;5;241m=\u001b[39m \u001b[38;5;241m-\u001b[39m\u001b[38;5;241m1\u001b[39m\n\u001b[1;32m-> 4748\u001b[0m \u001b[38;5;28;01mreturn\u001b[39;00m \u001b[43mpredictor\u001b[49m\u001b[38;5;241;43m.\u001b[39;49m\u001b[43mpredict\u001b[49m\u001b[43m(\u001b[49m\n\u001b[0;32m   4749\u001b[0m \u001b[43m    \u001b[49m\u001b[43mdata\u001b[49m\u001b[38;5;241;43m=\u001b[39;49m\u001b[43mdata\u001b[49m\u001b[43m,\u001b[49m\n\u001b[0;32m   4750\u001b[0m \u001b[43m    \u001b[49m\u001b[43mstart_iteration\u001b[49m\u001b[38;5;241;43m=\u001b[39;49m\u001b[43mstart_iteration\u001b[49m\u001b[43m,\u001b[49m\n\u001b[0;32m   4751\u001b[0m \u001b[43m    \u001b[49m\u001b[43mnum_iteration\u001b[49m\u001b[38;5;241;43m=\u001b[39;49m\u001b[43mnum_iteration\u001b[49m\u001b[43m,\u001b[49m\n\u001b[0;32m   4752\u001b[0m \u001b[43m    \u001b[49m\u001b[43mraw_score\u001b[49m\u001b[38;5;241;43m=\u001b[39;49m\u001b[43mraw_score\u001b[49m\u001b[43m,\u001b[49m\n\u001b[0;32m   4753\u001b[0m \u001b[43m    \u001b[49m\u001b[43mpred_leaf\u001b[49m\u001b[38;5;241;43m=\u001b[39;49m\u001b[43mpred_leaf\u001b[49m\u001b[43m,\u001b[49m\n\u001b[0;32m   4754\u001b[0m \u001b[43m    \u001b[49m\u001b[43mpred_contrib\u001b[49m\u001b[38;5;241;43m=\u001b[39;49m\u001b[43mpred_contrib\u001b[49m\u001b[43m,\u001b[49m\n\u001b[0;32m   4755\u001b[0m \u001b[43m    \u001b[49m\u001b[43mdata_has_header\u001b[49m\u001b[38;5;241;43m=\u001b[39;49m\u001b[43mdata_has_header\u001b[49m\u001b[43m,\u001b[49m\n\u001b[0;32m   4756\u001b[0m \u001b[43m    \u001b[49m\u001b[43mvalidate_features\u001b[49m\u001b[38;5;241;43m=\u001b[39;49m\u001b[43mvalidate_features\u001b[49m\u001b[43m,\u001b[49m\n\u001b[0;32m   4757\u001b[0m \u001b[43m\u001b[49m\u001b[43m)\u001b[49m\n",
      "File \u001b[1;32me:\\SAMS\\.venv\\Lib\\site-packages\\lightgbm\\basic.py:1185\u001b[0m, in \u001b[0;36m_InnerPredictor.predict\u001b[1;34m(self, data, start_iteration, num_iteration, raw_score, pred_leaf, pred_contrib, data_has_header, validate_features)\u001b[0m\n\u001b[0;32m   1178\u001b[0m     preds, nrow \u001b[38;5;241m=\u001b[39m \u001b[38;5;28mself\u001b[39m\u001b[38;5;241m.\u001b[39m__pred_for_csc(\n\u001b[0;32m   1179\u001b[0m         csc\u001b[38;5;241m=\u001b[39mdata,\n\u001b[0;32m   1180\u001b[0m         start_iteration\u001b[38;5;241m=\u001b[39mstart_iteration,\n\u001b[0;32m   1181\u001b[0m         num_iteration\u001b[38;5;241m=\u001b[39mnum_iteration,\n\u001b[0;32m   1182\u001b[0m         predict_type\u001b[38;5;241m=\u001b[39mpredict_type,\n\u001b[0;32m   1183\u001b[0m     )\n\u001b[0;32m   1184\u001b[0m \u001b[38;5;28;01melif\u001b[39;00m \u001b[38;5;28misinstance\u001b[39m(data, np\u001b[38;5;241m.\u001b[39mndarray):\n\u001b[1;32m-> 1185\u001b[0m     preds, nrow \u001b[38;5;241m=\u001b[39m \u001b[38;5;28;43mself\u001b[39;49m\u001b[38;5;241;43m.\u001b[39;49m\u001b[43m__pred_for_np2d\u001b[49m\u001b[43m(\u001b[49m\n\u001b[0;32m   1186\u001b[0m \u001b[43m        \u001b[49m\u001b[43mmat\u001b[49m\u001b[38;5;241;43m=\u001b[39;49m\u001b[43mdata\u001b[49m\u001b[43m,\u001b[49m\n\u001b[0;32m   1187\u001b[0m \u001b[43m        \u001b[49m\u001b[43mstart_iteration\u001b[49m\u001b[38;5;241;43m=\u001b[39;49m\u001b[43mstart_iteration\u001b[49m\u001b[43m,\u001b[49m\n\u001b[0;32m   1188\u001b[0m \u001b[43m        \u001b[49m\u001b[43mnum_iteration\u001b[49m\u001b[38;5;241;43m=\u001b[39;49m\u001b[43mnum_iteration\u001b[49m\u001b[43m,\u001b[49m\n\u001b[0;32m   1189\u001b[0m \u001b[43m        \u001b[49m\u001b[43mpredict_type\u001b[49m\u001b[38;5;241;43m=\u001b[39;49m\u001b[43mpredict_type\u001b[49m\u001b[43m,\u001b[49m\n\u001b[0;32m   1190\u001b[0m \u001b[43m    \u001b[49m\u001b[43m)\u001b[49m\n\u001b[0;32m   1191\u001b[0m \u001b[38;5;28;01melif\u001b[39;00m _is_pyarrow_table(data):\n\u001b[0;32m   1192\u001b[0m     preds, nrow \u001b[38;5;241m=\u001b[39m \u001b[38;5;28mself\u001b[39m\u001b[38;5;241m.\u001b[39m__pred_for_pyarrow_table(\n\u001b[0;32m   1193\u001b[0m         table\u001b[38;5;241m=\u001b[39mdata,\n\u001b[0;32m   1194\u001b[0m         start_iteration\u001b[38;5;241m=\u001b[39mstart_iteration,\n\u001b[0;32m   1195\u001b[0m         num_iteration\u001b[38;5;241m=\u001b[39mnum_iteration,\n\u001b[0;32m   1196\u001b[0m         predict_type\u001b[38;5;241m=\u001b[39mpredict_type,\n\u001b[0;32m   1197\u001b[0m     )\n",
      "File \u001b[1;32me:\\SAMS\\.venv\\Lib\\site-packages\\lightgbm\\basic.py:1344\u001b[0m, in \u001b[0;36m_InnerPredictor.__pred_for_np2d\u001b[1;34m(self, mat, start_iteration, num_iteration, predict_type)\u001b[0m\n\u001b[0;32m   1342\u001b[0m     \u001b[38;5;28;01mreturn\u001b[39;00m preds, nrow\n\u001b[0;32m   1343\u001b[0m \u001b[38;5;28;01melse\u001b[39;00m:\n\u001b[1;32m-> 1344\u001b[0m     \u001b[38;5;28;01mreturn\u001b[39;00m \u001b[38;5;28;43mself\u001b[39;49m\u001b[38;5;241;43m.\u001b[39;49m\u001b[43m__inner_predict_np2d\u001b[49m\u001b[43m(\u001b[49m\n\u001b[0;32m   1345\u001b[0m \u001b[43m        \u001b[49m\u001b[43mmat\u001b[49m\u001b[38;5;241;43m=\u001b[39;49m\u001b[43mmat\u001b[49m\u001b[43m,\u001b[49m\n\u001b[0;32m   1346\u001b[0m \u001b[43m        \u001b[49m\u001b[43mstart_iteration\u001b[49m\u001b[38;5;241;43m=\u001b[39;49m\u001b[43mstart_iteration\u001b[49m\u001b[43m,\u001b[49m\n\u001b[0;32m   1347\u001b[0m \u001b[43m        \u001b[49m\u001b[43mnum_iteration\u001b[49m\u001b[38;5;241;43m=\u001b[39;49m\u001b[43mnum_iteration\u001b[49m\u001b[43m,\u001b[49m\n\u001b[0;32m   1348\u001b[0m \u001b[43m        \u001b[49m\u001b[43mpredict_type\u001b[49m\u001b[38;5;241;43m=\u001b[39;49m\u001b[43mpredict_type\u001b[49m\u001b[43m,\u001b[49m\n\u001b[0;32m   1349\u001b[0m \u001b[43m        \u001b[49m\u001b[43mpreds\u001b[49m\u001b[38;5;241;43m=\u001b[39;49m\u001b[38;5;28;43;01mNone\u001b[39;49;00m\u001b[43m,\u001b[49m\n\u001b[0;32m   1350\u001b[0m \u001b[43m    \u001b[49m\u001b[43m)\u001b[49m\n",
      "File \u001b[1;32me:\\SAMS\\.venv\\Lib\\site-packages\\lightgbm\\basic.py:1290\u001b[0m, in \u001b[0;36m_InnerPredictor.__inner_predict_np2d\u001b[1;34m(self, mat, start_iteration, num_iteration, predict_type, preds)\u001b[0m\n\u001b[0;32m   1288\u001b[0m     \u001b[38;5;28;01mraise\u001b[39;00m \u001b[38;5;167;01mValueError\u001b[39;00m(\u001b[38;5;124m\"\u001b[39m\u001b[38;5;124mWrong length of pre-allocated predict array\u001b[39m\u001b[38;5;124m\"\u001b[39m)\n\u001b[0;32m   1289\u001b[0m out_num_preds \u001b[38;5;241m=\u001b[39m ctypes\u001b[38;5;241m.\u001b[39mc_int64(\u001b[38;5;241m0\u001b[39m)\n\u001b[1;32m-> 1290\u001b[0m \u001b[43m_safe_call\u001b[49m\u001b[43m(\u001b[49m\n\u001b[0;32m   1291\u001b[0m \u001b[43m    \u001b[49m\u001b[43m_LIB\u001b[49m\u001b[38;5;241;43m.\u001b[39;49m\u001b[43mLGBM_BoosterPredictForMat\u001b[49m\u001b[43m(\u001b[49m\n\u001b[0;32m   1292\u001b[0m \u001b[43m        \u001b[49m\u001b[38;5;28;43mself\u001b[39;49m\u001b[38;5;241;43m.\u001b[39;49m\u001b[43m_handle\u001b[49m\u001b[43m,\u001b[49m\n\u001b[0;32m   1293\u001b[0m \u001b[43m        \u001b[49m\u001b[43mptr_data\u001b[49m\u001b[43m,\u001b[49m\n\u001b[0;32m   1294\u001b[0m \u001b[43m        \u001b[49m\u001b[43mctypes\u001b[49m\u001b[38;5;241;43m.\u001b[39;49m\u001b[43mc_int\u001b[49m\u001b[43m(\u001b[49m\u001b[43mtype_ptr_data\u001b[49m\u001b[43m)\u001b[49m\u001b[43m,\u001b[49m\n\u001b[0;32m   1295\u001b[0m \u001b[43m        \u001b[49m\u001b[43mctypes\u001b[49m\u001b[38;5;241;43m.\u001b[39;49m\u001b[43mc_int32\u001b[49m\u001b[43m(\u001b[49m\u001b[43mmat\u001b[49m\u001b[38;5;241;43m.\u001b[39;49m\u001b[43mshape\u001b[49m\u001b[43m[\u001b[49m\u001b[38;5;241;43m0\u001b[39;49m\u001b[43m]\u001b[49m\u001b[43m)\u001b[49m\u001b[43m,\u001b[49m\n\u001b[0;32m   1296\u001b[0m \u001b[43m        \u001b[49m\u001b[43mctypes\u001b[49m\u001b[38;5;241;43m.\u001b[39;49m\u001b[43mc_int32\u001b[49m\u001b[43m(\u001b[49m\u001b[43mmat\u001b[49m\u001b[38;5;241;43m.\u001b[39;49m\u001b[43mshape\u001b[49m\u001b[43m[\u001b[49m\u001b[38;5;241;43m1\u001b[39;49m\u001b[43m]\u001b[49m\u001b[43m)\u001b[49m\u001b[43m,\u001b[49m\n\u001b[0;32m   1297\u001b[0m \u001b[43m        \u001b[49m\u001b[43mctypes\u001b[49m\u001b[38;5;241;43m.\u001b[39;49m\u001b[43mc_int\u001b[49m\u001b[43m(\u001b[49m\u001b[43m_C_API_IS_ROW_MAJOR\u001b[49m\u001b[43m)\u001b[49m\u001b[43m,\u001b[49m\n\u001b[0;32m   1298\u001b[0m \u001b[43m        \u001b[49m\u001b[43mctypes\u001b[49m\u001b[38;5;241;43m.\u001b[39;49m\u001b[43mc_int\u001b[49m\u001b[43m(\u001b[49m\u001b[43mpredict_type\u001b[49m\u001b[43m)\u001b[49m\u001b[43m,\u001b[49m\n\u001b[0;32m   1299\u001b[0m \u001b[43m        \u001b[49m\u001b[43mctypes\u001b[49m\u001b[38;5;241;43m.\u001b[39;49m\u001b[43mc_int\u001b[49m\u001b[43m(\u001b[49m\u001b[43mstart_iteration\u001b[49m\u001b[43m)\u001b[49m\u001b[43m,\u001b[49m\n\u001b[0;32m   1300\u001b[0m \u001b[43m        \u001b[49m\u001b[43mctypes\u001b[49m\u001b[38;5;241;43m.\u001b[39;49m\u001b[43mc_int\u001b[49m\u001b[43m(\u001b[49m\u001b[43mnum_iteration\u001b[49m\u001b[43m)\u001b[49m\u001b[43m,\u001b[49m\n\u001b[0;32m   1301\u001b[0m \u001b[43m        \u001b[49m\u001b[43m_c_str\u001b[49m\u001b[43m(\u001b[49m\u001b[38;5;28;43mself\u001b[39;49m\u001b[38;5;241;43m.\u001b[39;49m\u001b[43mpred_parameter\u001b[49m\u001b[43m)\u001b[49m\u001b[43m,\u001b[49m\n\u001b[0;32m   1302\u001b[0m \u001b[43m        \u001b[49m\u001b[43mctypes\u001b[49m\u001b[38;5;241;43m.\u001b[39;49m\u001b[43mbyref\u001b[49m\u001b[43m(\u001b[49m\u001b[43mout_num_preds\u001b[49m\u001b[43m)\u001b[49m\u001b[43m,\u001b[49m\n\u001b[0;32m   1303\u001b[0m \u001b[43m        \u001b[49m\u001b[43mpreds\u001b[49m\u001b[38;5;241;43m.\u001b[39;49m\u001b[43mctypes\u001b[49m\u001b[38;5;241;43m.\u001b[39;49m\u001b[43mdata_as\u001b[49m\u001b[43m(\u001b[49m\u001b[43mctypes\u001b[49m\u001b[38;5;241;43m.\u001b[39;49m\u001b[43mPOINTER\u001b[49m\u001b[43m(\u001b[49m\u001b[43mctypes\u001b[49m\u001b[38;5;241;43m.\u001b[39;49m\u001b[43mc_double\u001b[49m\u001b[43m)\u001b[49m\u001b[43m)\u001b[49m\u001b[43m,\u001b[49m\n\u001b[0;32m   1304\u001b[0m \u001b[43m    \u001b[49m\u001b[43m)\u001b[49m\n\u001b[0;32m   1305\u001b[0m \u001b[43m\u001b[49m\u001b[43m)\u001b[49m\n\u001b[0;32m   1306\u001b[0m \u001b[38;5;28;01mif\u001b[39;00m n_preds \u001b[38;5;241m!=\u001b[39m out_num_preds\u001b[38;5;241m.\u001b[39mvalue:\n\u001b[0;32m   1307\u001b[0m     \u001b[38;5;28;01mraise\u001b[39;00m \u001b[38;5;167;01mValueError\u001b[39;00m(\u001b[38;5;124m\"\u001b[39m\u001b[38;5;124mWrong length for predict results\u001b[39m\u001b[38;5;124m\"\u001b[39m)\n",
      "File \u001b[1;32me:\\SAMS\\.venv\\Lib\\site-packages\\lightgbm\\basic.py:296\u001b[0m, in \u001b[0;36m_safe_call\u001b[1;34m(ret)\u001b[0m\n\u001b[0;32m    288\u001b[0m \u001b[38;5;250m\u001b[39m\u001b[38;5;124;03m\"\"\"Check the return value from C API call.\u001b[39;00m\n\u001b[0;32m    289\u001b[0m \n\u001b[0;32m    290\u001b[0m \u001b[38;5;124;03mParameters\u001b[39;00m\n\u001b[1;32m   (...)\u001b[0m\n\u001b[0;32m    293\u001b[0m \u001b[38;5;124;03m    The return value from C API calls.\u001b[39;00m\n\u001b[0;32m    294\u001b[0m \u001b[38;5;124;03m\"\"\"\u001b[39;00m\n\u001b[0;32m    295\u001b[0m \u001b[38;5;28;01mif\u001b[39;00m ret \u001b[38;5;241m!=\u001b[39m \u001b[38;5;241m0\u001b[39m:\n\u001b[1;32m--> 296\u001b[0m     \u001b[38;5;28;01mraise\u001b[39;00m LightGBMError(_LIB\u001b[38;5;241m.\u001b[39mLGBM_GetLastError()\u001b[38;5;241m.\u001b[39mdecode(\u001b[38;5;124m\"\u001b[39m\u001b[38;5;124mutf-8\u001b[39m\u001b[38;5;124m\"\u001b[39m))\n",
      "\u001b[1;31mLightGBMError\u001b[0m: The number of features in data (92) is not the same as it was in training data (93).\nYou can set ``predict_disable_shape_check=true`` to discard this error, but please be aware what you are doing."
     ]
    }
   ],
   "source": [
    "prediction = model.predict(point_reduced_df)\n",
    "\n",
    "# Afficher la prédiction\n",
    "print(\"Prédiction pour le point donné :\", prediction)"
   ]
  },
  {
   "cell_type": "code",
   "execution_count": null,
   "id": "a68dcaf4",
   "metadata": {},
   "outputs": [],
   "source": []
  }
 ],
 "metadata": {
  "kernelspec": {
   "display_name": ".venv",
   "language": "python",
   "name": "python3"
  },
  "language_info": {
   "codemirror_mode": {
    "name": "ipython",
    "version": 3
   },
   "file_extension": ".py",
   "mimetype": "text/x-python",
   "name": "python",
   "nbconvert_exporter": "python",
   "pygments_lexer": "ipython3",
   "version": "3.11.9"
  }
 },
 "nbformat": 4,
 "nbformat_minor": 5
}
